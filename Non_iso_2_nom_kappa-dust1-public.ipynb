{
 "cells": [
  {
   "cell_type": "code",
   "execution_count": 1,
   "metadata": {},
   "outputs": [],
   "source": [
    "# hydro code\n",
    "import numpy as np\n",
    "import matplotlib.pyplot as plt\n",
    "from scipy.special import lambertw\n",
    "from numba import jit\n",
    "import upwind_scheme as uw\n",
    "import copy\n",
    "%matplotlib inline"
   ]
  },
  {
   "cell_type": "code",
   "execution_count": 2,
   "metadata": {},
   "outputs": [],
   "source": [
    "### driver functions to build specific model\n",
    "\n",
    "def full_boundary_update(bg,f,R0,h,cs,Sigma0):\n",
    "    \n",
    "    Sigma_boundary_update(bg,f,R0,Sigma0)\n",
    "    velocity_boundary_update(bg,f,h,cs)\n",
    "    \n",
    "def Sigma_boundary_update(bg,f,R0,Sigma0):\n",
    "    \n",
    "    ### inner boundary\n",
    "    f.Sigma_g[:bg.ii] = Sigma0*(R0/bg.R[:bg.ii])**2.\n",
    "    \n",
    "    if (f.Ndust > 0):\n",
    "        f.Sigma_dust[:bg.ii,:] = 0.01 * np.outer(f.Sigma_g[:bg.ii],np.ones(f.Ndust)) # as no feedback just hardcode to 0.01 of gas at inner boundary\n",
    "    \n",
    "    \n",
    "    ## outer boundary\n",
    "    f.Sigma_g[bg.io+1:] = f.Sigma_g[bg.io]\n",
    "    \n",
    "    if (f.Ndust > 0):\n",
    "        f.Sigma_dust[bg.io+1:,:] = f.Sigma_dust[bg.io,:]\n",
    "        \n",
    "        ### check_dust floor\n",
    "        f.Sigma_dust[f.Sigma_dust < 1e-15] = 1e-15\n",
    "    \n",
    "    \n",
    "    \n",
    "def velocity_boundary_update(bg,f,h,cs):\n",
    "    \n",
    "    ### inner boundary\n",
    "    f.uR[:bg.ii] = 0.\n",
    "    f.uphi[:bg.ii] = np.sqrt((h/bg.R[:bg.ii])**2. - 7./2. * cs**2.)\n",
    "    \n",
    "    if (f.Ndust > 0):\n",
    "        ## set gas and dust velocity equal in boundary\n",
    "        f.uR_dust[:bg.ii,:] = 0.\n",
    "        f.uphi_dust[:bg.ii,:] = np.outer(f.uphi[:bg.ii],np.ones(f.Ndust)) \n",
    "    \n",
    "    ## outer boundary\n",
    "    f.uR[bg.io+1:] = f.uR[bg.io] * (0.500000000001 + 0.5*np.sign(f.uR[bg.io]))\n",
    "    f.uphi[bg.io+1:] = f.uphi[bg.io]\n",
    "    \n",
    "    if (f.Ndust > 0):\n",
    "        f.uR_dust[bg.io+1:,:] = f.uR_dust[bg.io,:] * (0.500000000001 + 0.5*np.sign(f.uR_dust[bg.io,:]))\n",
    "        f.uphi_dust[bg.io+1:,:] = f.uphi_dust[bg.io,:]\n",
    "    \n",
    "def temperature_update(bg,f,kappa,use_dust):\n",
    "    \n",
    "    mmw_c = 2.35 * 1.67e-24\n",
    "    mmw_h = 1.3 * 1.67e-24\n",
    "    kb = 1.38e-16\n",
    "    # updates the temperature using a simple expression\n",
    "    Thot = 150.\n",
    "    Tcold = 100. * (bg.R/1.5e13)**(-0.5)\n",
    "    Tcold [Tcold < 10.] = 10.\n",
    "    \n",
    "    if (use_dust):\n",
    "            tau = get_tau(bg.dR,f.Sigma_dust[:,0],f.H,kappa,bg.ii,bg.io,bg.NR)\n",
    "    else:\n",
    "        tau = get_tau(bg.dR,f.Sigma_g,f.H,kappa,bg.ii,bg.io,bg.NR)\n",
    "    \n",
    "    cs_cold = np.sqrt(kb * Tcold/ mmw_c)\n",
    "    cs_hot = np.sqrt(kb * Thot /mmw_h)\n",
    "    \n",
    "    cs_use = cs_cold * (1.-np.exp(-tau)) + cs_hot * np.exp(-tau)\n",
    "    \n",
    "    f.cs = np.copy(cs_use)\n",
    "    \n",
    "@jit(nopython=True)    \n",
    "def get_tau(dRb,Sigma,H,cross_sec,ii,io,NR):\n",
    "    \n",
    "    tau = np.zeros(NR+4) \n",
    "    for i in range(io,ii-3,-1):\n",
    "        \n",
    "        tau[i] = tau[i+1] + dRb[i+1] * kappa * (Sigma[i+1]/H[i+1]+Sigma[i]/H[i+1]) * 0.5\n",
    "        \n",
    "    return tau\n",
    "        \n",
    "    \n",
    "\n",
    "def single_update(agrd,bgrd,f,hbd,Sigma0,kappa_use,pure_alpha,nu_pl,use_dust_tau):\n",
    "    \n",
    "    if (f.Ndust > 0):\n",
    "        # create momentum arrays to store fluxes for dust\n",
    "        Sr_dust = np.zeros((bgrd.NR+5,f.Ndust))\n",
    "        Sphi_dust = np.zeros((bgrd.NR+4,f.Ndust))\n",
    "    \n",
    "    # does a single update of the hydro\n",
    "    \n",
    "    # find time-step\n",
    "    \n",
    "    dt = uw.get_timestep(agrd.dR,f.uR,f.cs)\n",
    "    \n",
    "    ## update mid-plane pressure\n",
    "    \n",
    "    temperature_update(bgrd,f,kappa_use,use_dust_tau)\n",
    "    uw.get_mid_plane_values(f)\n",
    "    \n",
    "    # source update\n",
    "    ## gas\n",
    "    f.uR, f.agr = uw.source_update(f.GM,agrd.R,bgrd.dR,agrd.g32,f.Pmid,f.uR,f.uphi,f.H,f.Sigma_g,dt,agrd.ii,agrd.io,agrd.NR)\n",
    "    ## dust\n",
    "    if (f.Ndust > 0):\n",
    "        f.uR_dust,f.uphi_dust = uw.dust_source_update(f.GM,agrd.R,agrd.g32,f.uphi,f.uphi_dust,f.uR,f.agr,f.uR_dust,f.Omega_Ka,f.Omega_Kb,f.Sigma_g,f.sizes,f.rho_int,bgrd.ii,bgrd.io,bgrd.NR,f.Ndust,dt)\n",
    "        f.uR_dust_diff =  uw.dust_diffusion(use_alpha,f.alpha,f.cs,f.Omega_Ka,nu_pl_index,f.Sc,f.Sigma_g,f.Sigma_dust,bgrd.dR,agrd.R,bgrd.R,bgrd.ii,bgrd.io,bgrd.NR,f.Ndust)\n",
    "\n",
    "    \n",
    "    ## disc viscosity update\n",
    "    \n",
    "    f.uphi = uw.disc_viscosity_update(pure_alpha,f.alpha,f.cs,f.Omega_Ka,f.uphi,agrd.R,bgrd.R,bgrd.dR,agrd.dvRT,f.Sigma_g,dt,agrd.ii,agrd.io,agrd.NR,nu_pl)\n",
    "\n",
    "    ## full boundary update\n",
    "    full_boundary_update(bgrd,f,agrd.R[agrd.ii],hbd,f.cs[0],Sigma0)\n",
    "    \n",
    "    ## tranport update\n",
    "    ## gas \n",
    "    f.Sigma_g, Sr, Sphi = uw.transport_update(agrd.dR,agrd.dvR,bgrd.dR,bgrd.dvR,agrd.g32,bgrd.g32,f.Sigma_g,f.uR,f.uphi,dt,agrd.ii,agrd.io,agrd.NR)\n",
    "    ## dust\n",
    "    if (f.Ndust > 0.):\n",
    "        for j in range(f.Ndust):\n",
    "            f.Sigma_dust[:,j], Sr_dust[:,j],Sphi_dust[:,j] =  uw.transport_update(agrd.dR,agrd.dvR,bgrd.dR,bgrd.dvR,agrd.g32,bgrd.g32,f.Sigma_dust[:,j],f.uR_dust[:,j]+f.uR_dust_diff[:,j],f.uphi_dust[:,j],dt,agrd.ii,agrd.io,agrd.NR)\n",
    "    \n",
    "    ### Suface density boundary update\n",
    "    Sigma_boundary_update(bgrd,f,agrd.R[agrd.ii],Sigma0)\n",
    "    ## now update the velocities from the momentum fluxes\n",
    "    f.uR, f.uphi = uw.momentum_to_velocity(Sr,Sphi,f.Sigma_g,bgrd.g32,bgrd.ii,bgrd.io,bgrd.NR)\n",
    "    if (f.Ndust > 0.):\n",
    "        for j in range(f.Ndust):\n",
    "            f.uR_dust[:,j], f.uphi_dust[:,j] = uw.momentum_to_velocity(Sr_dust[:,j],Sphi_dust[:,j],f.Sigma_dust[:,j],bgrd.g32,bgrd.ii,bgrd.io,bgrd.NR)\n",
    "    \n",
    "    ### Velocity boundaries\n",
    "    velocity_boundary_update(bgrd,f,hbd,f.cs[0])\n",
    "\n",
    "    \n",
    "    ## update done\n",
    "    return dt\n",
    "    \n",
    "    "
   ]
  },
  {
   "cell_type": "code",
   "execution_count": 3,
   "metadata": {},
   "outputs": [
    {
     "data": {
      "image/png": "[encoded data removed]",
      "text/plain": [
       "<Figure size 432x288 with 1 Axes>"
      ]
     },
     "metadata": {
      "needs_background": "light"
     },
     "output_type": "display_data"
    }
   ],
   "source": [
    "#### tsetup\n",
    "agrd, bgrd, f = uw.build_grid(6e14,9e15,1000,25)\n",
    "\n",
    "#f = copy.deepcopy(f1Myr)\n",
    "\n",
    "Sigma0 = 133. \n",
    "f.Sigma_g = Sigma0*(agrd.R[2]/bgrd.R)**4.\n",
    "f.Sigma_dust = np.outer(0.01 * f.Sigma_g,np.ones(f.Ndust))\n",
    "f.sizes = np.logspace(-4.5,-1.75,f.Ndust)\n",
    "f.Sc = np.ones(f.Ndust)\n",
    "f.rho_int = np.zeros(f.Ndust) + 1.\n",
    "f.GM = 6.67e-8*2e33\n",
    "f.Omega_Kb = np.sqrt(f.GM/bgrd.R**3.)\n",
    "f.Omega_Ka = np.sqrt(f.GM/agrd.R**3.)\n",
    "f.alpha[:] = 1e-3\n",
    "h = 1.0*np.sqrt(f.GM*bgrd.R[1])\n",
    "\n",
    "\n",
    "\n",
    "# isothermal simulations\n",
    "# f.cs = np.ones(np.size(f.cs))+1.e5\n",
    "\n",
    "f.cs = np.ones(np.size(f.cs))+1.e5 # guess sound speed to calculate H\n",
    "uw.get_mid_plane_values(f)\n",
    "kappa = 15. \n",
    "use_dust_tau = False\n",
    "temperature_update(bgrd,f,kappa,use_dust_tau)\n",
    "\n",
    "plt.loglog(bgrd.R,f.cs)\n",
    "\n",
    "\n",
    "\n",
    "f.uphi[:] = np.sqrt(f.GM/bgrd.R)\n",
    "\n",
    "full_boundary_update(bgrd,f,agrd.R[agrd.ii],h,f.cs[0],Sigma0)"
   ]
  },
  {
   "cell_type": "code",
   "execution_count": 4,
   "metadata": {},
   "outputs": [
    {
     "name": "stdout",
     "output_type": "stream",
     "text": [
      "33.30404829484707\n"
     ]
    }
   ],
   "source": [
    "### Run a short time as a demonstration\n",
    "\n",
    "time = 0.\n",
    "\n",
    "use_alpha = True\n",
    "nu_pl_index = 1.5\n",
    "\n",
    "counter = 0\n",
    "\n",
    "for i in range(50000):    \n",
    "    \n",
    "    dt = single_update(agrd,bgrd,f,h,Sigma0,kappa,use_alpha,nu_pl_index,use_dust_tau)\n",
    "    \n",
    "    if (i % 100000000 == 0):\n",
    "        \n",
    "        plt.figure()\n",
    "        plt.loglog(bgrd.R,f.Sigma_g,'.')\n",
    "        plt.loglog(bgrd.R,(agrd.R[agrd.ii]/bgrd.R)**(2.),'--')\n",
    "        plt.loglog(bgrd.R,f.Sigma_dust[:,0])\n",
    "        plt.savefig(\"fig%d.png\" %counter)\n",
    "        counter += 1\n",
    "        plt.close()\n",
    "\n",
    "        \n",
    "    \n",
    "    time += dt\n",
    "    \n",
    "    if (time > 0.09 * 1e6 * 31556926):\n",
    "        break\n",
    "\n",
    "print (time/31556926/1e3)"
   ]
  },
  {
   "cell_type": "code",
   "execution_count": 5,
   "metadata": {
    "scrolled": false
   },
   "outputs": [
    {
     "name": "stdout",
     "output_type": "stream",
     "text": [
      "0.03330404829484707\n"
     ]
    },
    {
     "data": {
      "text/plain": [
       "(1e-06, 400.0)"
      ]
     },
     "execution_count": 5,
     "metadata": {},
     "output_type": "execute_result"
    },
    {
     "data": {
      "image/png": "[encoded data removed]",
      "text/plain": [
       "<Figure size 432x288 with 1 Axes>"
      ]
     },
     "metadata": {
      "needs_background": "light"
     },
     "output_type": "display_data"
    }
   ],
   "source": [
    "print (time/31556926/1e6)\n",
    "\n",
    "plt.loglog(bgrd.R,f.Sigma_g,'.')\n",
    "plt.loglog(bgrd.R,(agrd.R[agrd.ii]/bgrd.R)**(2.),'--')\n",
    "#plt.loglog(bgrd.R,f.Sigma_dust[:,0])\n",
    "#plt.loglog(bgrd.R,f.Sigma_dust[:,9])\n",
    "plt.loglog(bgrd.R,f.Sigma_dust[:,:])\n",
    "#plt.loglog(bgrd.R,f.Sigma_dust[:,29])\n",
    "\n",
    "#print (f.Sigma_dust[:,-3])\n",
    "#print(np.log10(f.sizes))\n",
    "\n",
    "#fbig = np.load('big_dust.npy',allow_pickle=True).item()\n",
    "\n",
    "#plt.loglog(bgrd.R,fbig.Sigma_dust[:,-1])\n",
    "\n",
    "\n",
    "plt.ylim((1e-6,400.))\n",
    "\n",
    "#f0p1Myr = copy.deepcopy(f)"
   ]
  },
  {
   "cell_type": "code",
   "execution_count": null,
   "metadata": {},
   "outputs": [],
   "source": []
  }
 ],
 "metadata": {
  "kernelspec": {
   "display_name": "Python 3",
   "language": "python",
   "name": "python3"
  },
  "language_info": {
   "codemirror_mode": {
    "name": "ipython",
    "version": 3
   },
   "file_extension": ".py",
   "mimetype": "text/x-python",
   "name": "python",
   "nbconvert_exporter": "python",
   "pygments_lexer": "ipython3",
   "version": "3.8.5"
  }
 },
 "nbformat": 4,
 "nbformat_minor": 4
}
